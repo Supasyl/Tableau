{
 "metadata": {
  "language_info": {
   "codemirror_mode": {
    "name": "ipython",
    "version": 3
   },
   "file_extension": ".py",
   "mimetype": "text/x-python",
   "name": "python",
   "nbconvert_exporter": "python",
   "pygments_lexer": "ipython3",
   "version": "3.8.3-final"
  },
  "orig_nbformat": 2,
  "kernelspec": {
   "name": "python3",
   "display_name": "Python 3",
   "language": "python"
  }
 },
 "nbformat": 4,
 "nbformat_minor": 2,
 "cells": [
  {
   "cell_type": "code",
   "execution_count": 156,
   "metadata": {},
   "outputs": [],
   "source": [
    "import pandas as pd\n",
    "import datetime"
   ]
  },
  {
   "cell_type": "code",
   "execution_count": 157,
   "metadata": {},
   "outputs": [
    {
     "output_type": "execute_result",
     "data": {
      "text/plain": [
       "   tripduration                 starttime                  stoptime  \\\n",
       "0           521  2020-11-01 00:00:07.0150  2020-11-01 00:08:48.3010   \n",
       "1           492  2020-11-01 00:00:10.8080  2020-11-01 00:08:23.3170   \n",
       "2          1979  2020-11-01 00:00:14.7040  2020-11-01 00:33:14.1640   \n",
       "3          2382  2020-11-01 00:00:14.7070  2020-11-01 00:39:57.0030   \n",
       "4           166  2020-11-01 00:00:15.9690  2020-11-01 00:03:02.8980   \n",
       "\n",
       "   start station id      start station name  start station latitude  \\\n",
       "0              3467  W Broadway & Spring St               40.724947   \n",
       "1              3557           40 Ave & 9 St               40.757420   \n",
       "2              3085    Roebling St & N 4 St               40.714690   \n",
       "3              3783    Cliff St & Fulton St               40.708380   \n",
       "4               422        W 59 St & 10 Ave               40.770513   \n",
       "\n",
       "   start station longitude  end station id          end station name  \\\n",
       "0               -74.001659             350     Clinton St & Grand St   \n",
       "1               -73.945133            3557             40 Ave & 9 St   \n",
       "2               -73.957390            3854  Morgan Ave & Maspeth Ave   \n",
       "3               -74.004950            3167   Amsterdam Ave & W 73 St   \n",
       "4               -73.988038            3175   W 70 St & Amsterdam Ave   \n",
       "\n",
       "   end station latitude  end station longitude  bikeid    usertype  \\\n",
       "0             40.715595             -73.987030   40405  Subscriber   \n",
       "1             40.757420             -73.945133   46504  Subscriber   \n",
       "2             40.716657             -73.936370   37452  Subscriber   \n",
       "3             40.779668             -73.980930   40417  Subscriber   \n",
       "4             40.777480             -73.982886   35776  Subscriber   \n",
       "\n",
       "   birth year  gender  \n",
       "0        1989       1  \n",
       "1        1970       2  \n",
       "2        1989       2  \n",
       "3        1981       1  \n",
       "4        1990       1  "
      ],
      "text/html": "<div>\n<style scoped>\n    .dataframe tbody tr th:only-of-type {\n        vertical-align: middle;\n    }\n\n    .dataframe tbody tr th {\n        vertical-align: top;\n    }\n\n    .dataframe thead th {\n        text-align: right;\n    }\n</style>\n<table border=\"1\" class=\"dataframe\">\n  <thead>\n    <tr style=\"text-align: right;\">\n      <th></th>\n      <th>tripduration</th>\n      <th>starttime</th>\n      <th>stoptime</th>\n      <th>start station id</th>\n      <th>start station name</th>\n      <th>start station latitude</th>\n      <th>start station longitude</th>\n      <th>end station id</th>\n      <th>end station name</th>\n      <th>end station latitude</th>\n      <th>end station longitude</th>\n      <th>bikeid</th>\n      <th>usertype</th>\n      <th>birth year</th>\n      <th>gender</th>\n    </tr>\n  </thead>\n  <tbody>\n    <tr>\n      <th>0</th>\n      <td>521</td>\n      <td>2020-11-01 00:00:07.0150</td>\n      <td>2020-11-01 00:08:48.3010</td>\n      <td>3467</td>\n      <td>W Broadway &amp; Spring St</td>\n      <td>40.724947</td>\n      <td>-74.001659</td>\n      <td>350</td>\n      <td>Clinton St &amp; Grand St</td>\n      <td>40.715595</td>\n      <td>-73.987030</td>\n      <td>40405</td>\n      <td>Subscriber</td>\n      <td>1989</td>\n      <td>1</td>\n    </tr>\n    <tr>\n      <th>1</th>\n      <td>492</td>\n      <td>2020-11-01 00:00:10.8080</td>\n      <td>2020-11-01 00:08:23.3170</td>\n      <td>3557</td>\n      <td>40 Ave &amp; 9 St</td>\n      <td>40.757420</td>\n      <td>-73.945133</td>\n      <td>3557</td>\n      <td>40 Ave &amp; 9 St</td>\n      <td>40.757420</td>\n      <td>-73.945133</td>\n      <td>46504</td>\n      <td>Subscriber</td>\n      <td>1970</td>\n      <td>2</td>\n    </tr>\n    <tr>\n      <th>2</th>\n      <td>1979</td>\n      <td>2020-11-01 00:00:14.7040</td>\n      <td>2020-11-01 00:33:14.1640</td>\n      <td>3085</td>\n      <td>Roebling St &amp; N 4 St</td>\n      <td>40.714690</td>\n      <td>-73.957390</td>\n      <td>3854</td>\n      <td>Morgan Ave &amp; Maspeth Ave</td>\n      <td>40.716657</td>\n      <td>-73.936370</td>\n      <td>37452</td>\n      <td>Subscriber</td>\n      <td>1989</td>\n      <td>2</td>\n    </tr>\n    <tr>\n      <th>3</th>\n      <td>2382</td>\n      <td>2020-11-01 00:00:14.7070</td>\n      <td>2020-11-01 00:39:57.0030</td>\n      <td>3783</td>\n      <td>Cliff St &amp; Fulton St</td>\n      <td>40.708380</td>\n      <td>-74.004950</td>\n      <td>3167</td>\n      <td>Amsterdam Ave &amp; W 73 St</td>\n      <td>40.779668</td>\n      <td>-73.980930</td>\n      <td>40417</td>\n      <td>Subscriber</td>\n      <td>1981</td>\n      <td>1</td>\n    </tr>\n    <tr>\n      <th>4</th>\n      <td>166</td>\n      <td>2020-11-01 00:00:15.9690</td>\n      <td>2020-11-01 00:03:02.8980</td>\n      <td>422</td>\n      <td>W 59 St &amp; 10 Ave</td>\n      <td>40.770513</td>\n      <td>-73.988038</td>\n      <td>3175</td>\n      <td>W 70 St &amp; Amsterdam Ave</td>\n      <td>40.777480</td>\n      <td>-73.982886</td>\n      <td>35776</td>\n      <td>Subscriber</td>\n      <td>1990</td>\n      <td>1</td>\n    </tr>\n  </tbody>\n</table>\n</div>"
     },
     "metadata": {},
     "execution_count": 157
    }
   ],
   "source": [
    "data_df = pd.read_csv('CityBike/202011-citibike-tripdata.csv')\n",
    "data_df.head()"
   ]
  },
  {
   "cell_type": "code",
   "execution_count": 74,
   "metadata": {},
   "outputs": [
    {
     "output_type": "execute_result",
     "data": {
      "text/plain": [
       "Trip Duration                int64\n",
       "Start Time                  object\n",
       "Stop Time                   object\n",
       "Start Station ID             int64\n",
       "Start Station Name          object\n",
       "Start Station Latitude     float64\n",
       "Start Station Longitude    float64\n",
       "End Station ID               int64\n",
       "End Station Name            object\n",
       "End Station Latitude       float64\n",
       "End Station Longitude      float64\n",
       "Bike ID                      int64\n",
       "User Type                   object\n",
       "Birth Year                 float64\n",
       "Gender                       int64\n",
       "dtype: object"
      ]
     },
     "metadata": {},
     "execution_count": 74
    }
   ],
   "source": [
    "data_df.dtypes"
   ]
  },
  {
   "cell_type": "code",
   "execution_count": 106,
   "metadata": {},
   "outputs": [
    {
     "output_type": "execute_result",
     "data": {
      "text/plain": [
       "329"
      ]
     },
     "metadata": {},
     "execution_count": 106
    }
   ],
   "source": [
    "data_df['start station id'].nunique()"
   ]
  },
  {
   "cell_type": "code",
   "execution_count": 107,
   "metadata": {},
   "outputs": [
    {
     "output_type": "execute_result",
     "data": {
      "text/plain": [
       "329"
      ]
     },
     "metadata": {},
     "execution_count": 107
    }
   ],
   "source": [
    "data_df['end station id'].nunique()"
   ]
  },
  {
   "cell_type": "code",
   "execution_count": 108,
   "metadata": {},
   "outputs": [
    {
     "output_type": "execute_result",
     "data": {
      "text/plain": [
       "   end station id            end station name  end station latitude  \\\n",
       "0             476             E 31 St & 3 Ave             40.743943   \n",
       "1             223             W 13 St & 7 Ave             40.737815   \n",
       "2             291  Madison St & Montgomery St             40.713126   \n",
       "3             447             8 Ave & W 52 St             40.763707   \n",
       "4             296        Division St & Bowery             40.714131   \n",
       "\n",
       "   end station longitude  \n",
       "0             -73.979661  \n",
       "1             -73.999947  \n",
       "2             -73.984844  \n",
       "3             -73.985162  \n",
       "4             -73.997047  "
      ],
      "text/html": "<div>\n<style scoped>\n    .dataframe tbody tr th:only-of-type {\n        vertical-align: middle;\n    }\n\n    .dataframe tbody tr th {\n        vertical-align: top;\n    }\n\n    .dataframe thead th {\n        text-align: right;\n    }\n</style>\n<table border=\"1\" class=\"dataframe\">\n  <thead>\n    <tr style=\"text-align: right;\">\n      <th></th>\n      <th>end station id</th>\n      <th>end station name</th>\n      <th>end station latitude</th>\n      <th>end station longitude</th>\n    </tr>\n  </thead>\n  <tbody>\n    <tr>\n      <th>0</th>\n      <td>476</td>\n      <td>E 31 St &amp; 3 Ave</td>\n      <td>40.743943</td>\n      <td>-73.979661</td>\n    </tr>\n    <tr>\n      <th>1</th>\n      <td>223</td>\n      <td>W 13 St &amp; 7 Ave</td>\n      <td>40.737815</td>\n      <td>-73.999947</td>\n    </tr>\n    <tr>\n      <th>2</th>\n      <td>291</td>\n      <td>Madison St &amp; Montgomery St</td>\n      <td>40.713126</td>\n      <td>-73.984844</td>\n    </tr>\n    <tr>\n      <th>3</th>\n      <td>447</td>\n      <td>8 Ave &amp; W 52 St</td>\n      <td>40.763707</td>\n      <td>-73.985162</td>\n    </tr>\n    <tr>\n      <th>4</th>\n      <td>296</td>\n      <td>Division St &amp; Bowery</td>\n      <td>40.714131</td>\n      <td>-73.997047</td>\n    </tr>\n  </tbody>\n</table>\n</div>"
     },
     "metadata": {},
     "execution_count": 108
    }
   ],
   "source": [
    "station_df = data_df.loc[:, ['end station id', 'end station name', 'end station latitude', 'end station longitude']]\n",
    "station_df.head()"
   ]
  },
  {
   "cell_type": "code",
   "execution_count": 89,
   "metadata": {},
   "outputs": [
    {
     "output_type": "execute_result",
     "data": {
      "text/plain": [
       "   end station id               end station name  end station latitude  \\\n",
       "0             228                E 48 St & 3 Ave             40.754601   \n",
       "1            3358            Garfield Pl & 8 Ave             40.671198   \n",
       "2             345                W 13 St & 6 Ave             40.736494   \n",
       "3             358  Christopher St & Greenwich St             40.732916   \n",
       "4             279           Peck Slip & Front St             40.707873   \n",
       "\n",
       "   end station longitude  \n",
       "0             -73.971879  \n",
       "1             -73.974841  \n",
       "2             -73.997044  \n",
       "3             -74.007114  \n",
       "4             -74.001670  "
      ],
      "text/html": "<div>\n<style scoped>\n    .dataframe tbody tr th:only-of-type {\n        vertical-align: middle;\n    }\n\n    .dataframe tbody tr th {\n        vertical-align: top;\n    }\n\n    .dataframe thead th {\n        text-align: right;\n    }\n</style>\n<table border=\"1\" class=\"dataframe\">\n  <thead>\n    <tr style=\"text-align: right;\">\n      <th></th>\n      <th>end station id</th>\n      <th>end station name</th>\n      <th>end station latitude</th>\n      <th>end station longitude</th>\n    </tr>\n  </thead>\n  <tbody>\n    <tr>\n      <th>0</th>\n      <td>228</td>\n      <td>E 48 St &amp; 3 Ave</td>\n      <td>40.754601</td>\n      <td>-73.971879</td>\n    </tr>\n    <tr>\n      <th>1</th>\n      <td>3358</td>\n      <td>Garfield Pl &amp; 8 Ave</td>\n      <td>40.671198</td>\n      <td>-73.974841</td>\n    </tr>\n    <tr>\n      <th>2</th>\n      <td>345</td>\n      <td>W 13 St &amp; 6 Ave</td>\n      <td>40.736494</td>\n      <td>-73.997044</td>\n    </tr>\n    <tr>\n      <th>3</th>\n      <td>358</td>\n      <td>Christopher St &amp; Greenwich St</td>\n      <td>40.732916</td>\n      <td>-74.007114</td>\n    </tr>\n    <tr>\n      <th>4</th>\n      <td>279</td>\n      <td>Peck Slip &amp; Front St</td>\n      <td>40.707873</td>\n      <td>-74.001670</td>\n    </tr>\n  </tbody>\n</table>\n</div>"
     },
     "metadata": {},
     "execution_count": 89
    }
   ],
   "source": [
    "station_df.columns = map(str.lower, station_df.columns)\n",
    "station_df.head()"
   ]
  },
  {
   "cell_type": "code",
   "execution_count": 109,
   "metadata": {},
   "outputs": [
    {
     "output_type": "execute_result",
     "data": {
      "text/plain": [
       "end station id           329\n",
       "end station name         329\n",
       "end station latitude     329\n",
       "end station longitude    329\n",
       "dtype: int64"
      ]
     },
     "metadata": {},
     "execution_count": 109
    }
   ],
   "source": [
    "station_df = station_df.drop_duplicates('end station id', keep='first')\n",
    "station_df.count()"
   ]
  },
  {
   "cell_type": "code",
   "execution_count": 110,
   "metadata": {},
   "outputs": [],
   "source": [
    "station_df.to_csv('stations_201312.csv', index = False)"
   ]
  },
  {
   "cell_type": "code",
   "execution_count": 136,
   "metadata": {},
   "outputs": [
    {
     "output_type": "execute_result",
     "data": {
      "text/plain": [
       "   end station id            end station name  end station latitude  \\\n",
       "0             476             E 31 St & 3 Ave             40.743943   \n",
       "1             223             W 13 St & 7 Ave             40.737815   \n",
       "2             291  Madison St & Montgomery St             40.713126   \n",
       "3             447             8 Ave & W 52 St             40.763707   \n",
       "4             296        Division St & Bowery             40.714131   \n",
       "\n",
       "   end station longitude  \n",
       "0             -73.979661  \n",
       "1             -73.999947  \n",
       "2             -73.984844  \n",
       "3             -73.985162  \n",
       "4             -73.997047  "
      ],
      "text/html": "<div>\n<style scoped>\n    .dataframe tbody tr th:only-of-type {\n        vertical-align: middle;\n    }\n\n    .dataframe tbody tr th {\n        vertical-align: top;\n    }\n\n    .dataframe thead th {\n        text-align: right;\n    }\n</style>\n<table border=\"1\" class=\"dataframe\">\n  <thead>\n    <tr style=\"text-align: right;\">\n      <th></th>\n      <th>end station id</th>\n      <th>end station name</th>\n      <th>end station latitude</th>\n      <th>end station longitude</th>\n    </tr>\n  </thead>\n  <tbody>\n    <tr>\n      <th>0</th>\n      <td>476</td>\n      <td>E 31 St &amp; 3 Ave</td>\n      <td>40.743943</td>\n      <td>-73.979661</td>\n    </tr>\n    <tr>\n      <th>1</th>\n      <td>223</td>\n      <td>W 13 St &amp; 7 Ave</td>\n      <td>40.737815</td>\n      <td>-73.999947</td>\n    </tr>\n    <tr>\n      <th>2</th>\n      <td>291</td>\n      <td>Madison St &amp; Montgomery St</td>\n      <td>40.713126</td>\n      <td>-73.984844</td>\n    </tr>\n    <tr>\n      <th>3</th>\n      <td>447</td>\n      <td>8 Ave &amp; W 52 St</td>\n      <td>40.763707</td>\n      <td>-73.985162</td>\n    </tr>\n    <tr>\n      <th>4</th>\n      <td>296</td>\n      <td>Division St &amp; Bowery</td>\n      <td>40.714131</td>\n      <td>-73.997047</td>\n    </tr>\n  </tbody>\n</table>\n</div>"
     },
     "metadata": {},
     "execution_count": 136
    }
   ],
   "source": [
    "data_df = pd.read_csv('Stations/stations_201312.csv')\n",
    "data_df.head()"
   ]
  },
  {
   "cell_type": "code",
   "execution_count": 137,
   "metadata": {},
   "outputs": [
    {
     "output_type": "execute_result",
     "data": {
      "text/plain": [
       "   end station id            end station name  end station latitude  \\\n",
       "0             476             E 31 St & 3 Ave             40.743943   \n",
       "1             223             W 13 St & 7 Ave             40.737815   \n",
       "2             291  Madison St & Montgomery St             40.713126   \n",
       "3             447             8 Ave & W 52 St             40.763707   \n",
       "4             296        Division St & Bowery             40.714131   \n",
       "\n",
       "   end station longitude  year  \n",
       "0             -73.979661  2013  \n",
       "1             -73.999947  2013  \n",
       "2             -73.984844  2013  \n",
       "3             -73.985162  2013  \n",
       "4             -73.997047  2013  "
      ],
      "text/html": "<div>\n<style scoped>\n    .dataframe tbody tr th:only-of-type {\n        vertical-align: middle;\n    }\n\n    .dataframe tbody tr th {\n        vertical-align: top;\n    }\n\n    .dataframe thead th {\n        text-align: right;\n    }\n</style>\n<table border=\"1\" class=\"dataframe\">\n  <thead>\n    <tr style=\"text-align: right;\">\n      <th></th>\n      <th>end station id</th>\n      <th>end station name</th>\n      <th>end station latitude</th>\n      <th>end station longitude</th>\n      <th>year</th>\n    </tr>\n  </thead>\n  <tbody>\n    <tr>\n      <th>0</th>\n      <td>476</td>\n      <td>E 31 St &amp; 3 Ave</td>\n      <td>40.743943</td>\n      <td>-73.979661</td>\n      <td>2013</td>\n    </tr>\n    <tr>\n      <th>1</th>\n      <td>223</td>\n      <td>W 13 St &amp; 7 Ave</td>\n      <td>40.737815</td>\n      <td>-73.999947</td>\n      <td>2013</td>\n    </tr>\n    <tr>\n      <th>2</th>\n      <td>291</td>\n      <td>Madison St &amp; Montgomery St</td>\n      <td>40.713126</td>\n      <td>-73.984844</td>\n      <td>2013</td>\n    </tr>\n    <tr>\n      <th>3</th>\n      <td>447</td>\n      <td>8 Ave &amp; W 52 St</td>\n      <td>40.763707</td>\n      <td>-73.985162</td>\n      <td>2013</td>\n    </tr>\n    <tr>\n      <th>4</th>\n      <td>296</td>\n      <td>Division St &amp; Bowery</td>\n      <td>40.714131</td>\n      <td>-73.997047</td>\n      <td>2013</td>\n    </tr>\n  </tbody>\n</table>\n</div>"
     },
     "metadata": {},
     "execution_count": 137
    }
   ],
   "source": [
    "data_df['year'] = '2013'\n",
    "data_df.head()"
   ]
  },
  {
   "cell_type": "code",
   "execution_count": 138,
   "metadata": {},
   "outputs": [],
   "source": [
    "data_df.to_csv('Stations/stations_201312.csv', index = False)"
   ]
  },
  {
   "cell_type": "code",
   "execution_count": 147,
   "metadata": {},
   "outputs": [
    {
     "output_type": "execute_result",
     "data": {
      "text/plain": [
       "   tripduration                 starttime                  stoptime  \\\n",
       "0           694  2020-12-01 00:00:03.7770  2020-12-01 00:11:38.3160   \n",
       "1          4131  2020-12-01 00:00:09.1730  2020-12-01 01:09:00.2370   \n",
       "2          1368  2020-12-01 00:00:28.7470  2020-12-01 00:23:16.9980   \n",
       "3          1707  2020-12-01 00:00:34.7680  2020-12-01 00:29:02.6470   \n",
       "4          2182  2020-12-01 00:00:36.4030  2020-12-01 00:36:59.0330   \n",
       "\n",
       "   start station id           start station name  start station latitude  \\\n",
       "0              4065     Wadsworth Ave & W 179 St               40.848467   \n",
       "1              3284           E 88 St & Park Ave               40.781411   \n",
       "2              3443              W 52 St & 6 Ave               40.761330   \n",
       "3                72             W 52 St & 11 Ave               40.767272   \n",
       "4              3165  Central Park West & W 72 St               40.775794   \n",
       "\n",
       "   start station longitude  end station id          end station name  \\\n",
       "0               -73.936064            3959  Edgecombe Ave & W 145 St   \n",
       "1               -73.955959            3147           E 85 St & 3 Ave   \n",
       "2               -73.979820            3563            28 St & 36 Ave   \n",
       "3               -73.993929            3336     E 97 St & Madison Ave   \n",
       "4               -73.976206            3952    E 141 St & Jackson Ave   \n",
       "\n",
       "   end station latitude  end station longitude  bikeid    usertype  \\\n",
       "0             40.823498             -73.943860   49454    Customer   \n",
       "1             40.778012             -73.954071   49524  Subscriber   \n",
       "2             40.757186             -73.932719   34312  Subscriber   \n",
       "3             40.787801             -73.953559   45491  Subscriber   \n",
       "4             40.806896             -73.911837   16558    Customer   \n",
       "\n",
       "   birth year  gender  \n",
       "0        1988       2  \n",
       "1        1988       1  \n",
       "2        1977       2  \n",
       "3        1982       0  \n",
       "4        1997       1  "
      ],
      "text/html": "<div>\n<style scoped>\n    .dataframe tbody tr th:only-of-type {\n        vertical-align: middle;\n    }\n\n    .dataframe tbody tr th {\n        vertical-align: top;\n    }\n\n    .dataframe thead th {\n        text-align: right;\n    }\n</style>\n<table border=\"1\" class=\"dataframe\">\n  <thead>\n    <tr style=\"text-align: right;\">\n      <th></th>\n      <th>tripduration</th>\n      <th>starttime</th>\n      <th>stoptime</th>\n      <th>start station id</th>\n      <th>start station name</th>\n      <th>start station latitude</th>\n      <th>start station longitude</th>\n      <th>end station id</th>\n      <th>end station name</th>\n      <th>end station latitude</th>\n      <th>end station longitude</th>\n      <th>bikeid</th>\n      <th>usertype</th>\n      <th>birth year</th>\n      <th>gender</th>\n    </tr>\n  </thead>\n  <tbody>\n    <tr>\n      <th>0</th>\n      <td>694</td>\n      <td>2020-12-01 00:00:03.7770</td>\n      <td>2020-12-01 00:11:38.3160</td>\n      <td>4065</td>\n      <td>Wadsworth Ave &amp; W 179 St</td>\n      <td>40.848467</td>\n      <td>-73.936064</td>\n      <td>3959</td>\n      <td>Edgecombe Ave &amp; W 145 St</td>\n      <td>40.823498</td>\n      <td>-73.943860</td>\n      <td>49454</td>\n      <td>Customer</td>\n      <td>1988</td>\n      <td>2</td>\n    </tr>\n    <tr>\n      <th>1</th>\n      <td>4131</td>\n      <td>2020-12-01 00:00:09.1730</td>\n      <td>2020-12-01 01:09:00.2370</td>\n      <td>3284</td>\n      <td>E 88 St &amp; Park Ave</td>\n      <td>40.781411</td>\n      <td>-73.955959</td>\n      <td>3147</td>\n      <td>E 85 St &amp; 3 Ave</td>\n      <td>40.778012</td>\n      <td>-73.954071</td>\n      <td>49524</td>\n      <td>Subscriber</td>\n      <td>1988</td>\n      <td>1</td>\n    </tr>\n    <tr>\n      <th>2</th>\n      <td>1368</td>\n      <td>2020-12-01 00:00:28.7470</td>\n      <td>2020-12-01 00:23:16.9980</td>\n      <td>3443</td>\n      <td>W 52 St &amp; 6 Ave</td>\n      <td>40.761330</td>\n      <td>-73.979820</td>\n      <td>3563</td>\n      <td>28 St &amp; 36 Ave</td>\n      <td>40.757186</td>\n      <td>-73.932719</td>\n      <td>34312</td>\n      <td>Subscriber</td>\n      <td>1977</td>\n      <td>2</td>\n    </tr>\n    <tr>\n      <th>3</th>\n      <td>1707</td>\n      <td>2020-12-01 00:00:34.7680</td>\n      <td>2020-12-01 00:29:02.6470</td>\n      <td>72</td>\n      <td>W 52 St &amp; 11 Ave</td>\n      <td>40.767272</td>\n      <td>-73.993929</td>\n      <td>3336</td>\n      <td>E 97 St &amp; Madison Ave</td>\n      <td>40.787801</td>\n      <td>-73.953559</td>\n      <td>45491</td>\n      <td>Subscriber</td>\n      <td>1982</td>\n      <td>0</td>\n    </tr>\n    <tr>\n      <th>4</th>\n      <td>2182</td>\n      <td>2020-12-01 00:00:36.4030</td>\n      <td>2020-12-01 00:36:59.0330</td>\n      <td>3165</td>\n      <td>Central Park West &amp; W 72 St</td>\n      <td>40.775794</td>\n      <td>-73.976206</td>\n      <td>3952</td>\n      <td>E 141 St &amp; Jackson Ave</td>\n      <td>40.806896</td>\n      <td>-73.911837</td>\n      <td>16558</td>\n      <td>Customer</td>\n      <td>1997</td>\n      <td>1</td>\n    </tr>\n  </tbody>\n</table>\n</div>"
     },
     "metadata": {},
     "execution_count": 147
    }
   ],
   "source": [
    "data_df = pd.read_csv('CityBike/202012-citibike-tripdata.csv')\n",
    "data_df.head()"
   ]
  },
  {
   "cell_type": "code",
   "execution_count": 155,
   "metadata": {},
   "outputs": [
    {
     "output_type": "error",
     "ename": "AttributeError",
     "evalue": "Can only use .dt accessor with datetimelike values",
     "traceback": [
      "\u001b[0;31m---------------------------------------------------------------------------\u001b[0m",
      "\u001b[0;31mAttributeError\u001b[0m                            Traceback (most recent call last)",
      "\u001b[0;32m<ipython-input-155-78f979b43a3a>\u001b[0m in \u001b[0;36m<module>\u001b[0;34m\u001b[0m\n\u001b[0;32m----> 1\u001b[0;31m \u001b[0mdata_df\u001b[0m\u001b[0;34m[\u001b[0m\u001b[0;34m'stoptime'\u001b[0m\u001b[0;34m]\u001b[0m\u001b[0;34m.\u001b[0m\u001b[0mdt\u001b[0m\u001b[0;34m.\u001b[0m\u001b[0mday\u001b[0m\u001b[0;34m\u001b[0m\u001b[0;34m\u001b[0m\u001b[0m\n\u001b[0m",
      "\u001b[0;32m~/opt/anaconda3/lib/python3.8/site-packages/pandas/core/generic.py\u001b[0m in \u001b[0;36m__getattr__\u001b[0;34m(self, name)\u001b[0m\n\u001b[1;32m   5268\u001b[0m             \u001b[0;32mor\u001b[0m \u001b[0mname\u001b[0m \u001b[0;32min\u001b[0m \u001b[0mself\u001b[0m\u001b[0;34m.\u001b[0m\u001b[0m_accessors\u001b[0m\u001b[0;34m\u001b[0m\u001b[0;34m\u001b[0m\u001b[0m\n\u001b[1;32m   5269\u001b[0m         ):\n\u001b[0;32m-> 5270\u001b[0;31m             \u001b[0;32mreturn\u001b[0m \u001b[0mobject\u001b[0m\u001b[0;34m.\u001b[0m\u001b[0m__getattribute__\u001b[0m\u001b[0;34m(\u001b[0m\u001b[0mself\u001b[0m\u001b[0;34m,\u001b[0m \u001b[0mname\u001b[0m\u001b[0;34m)\u001b[0m\u001b[0;34m\u001b[0m\u001b[0;34m\u001b[0m\u001b[0m\n\u001b[0m\u001b[1;32m   5271\u001b[0m         \u001b[0;32melse\u001b[0m\u001b[0;34m:\u001b[0m\u001b[0;34m\u001b[0m\u001b[0;34m\u001b[0m\u001b[0m\n\u001b[1;32m   5272\u001b[0m             \u001b[0;32mif\u001b[0m \u001b[0mself\u001b[0m\u001b[0;34m.\u001b[0m\u001b[0m_info_axis\u001b[0m\u001b[0;34m.\u001b[0m\u001b[0m_can_hold_identifiers_and_holds_name\u001b[0m\u001b[0;34m(\u001b[0m\u001b[0mname\u001b[0m\u001b[0;34m)\u001b[0m\u001b[0;34m:\u001b[0m\u001b[0;34m\u001b[0m\u001b[0;34m\u001b[0m\u001b[0m\n",
      "\u001b[0;32m~/opt/anaconda3/lib/python3.8/site-packages/pandas/core/accessor.py\u001b[0m in \u001b[0;36m__get__\u001b[0;34m(self, obj, cls)\u001b[0m\n\u001b[1;32m    185\u001b[0m             \u001b[0;31m# we're accessing the attribute of the class, i.e., Dataset.geo\u001b[0m\u001b[0;34m\u001b[0m\u001b[0;34m\u001b[0m\u001b[0;34m\u001b[0m\u001b[0m\n\u001b[1;32m    186\u001b[0m             \u001b[0;32mreturn\u001b[0m \u001b[0mself\u001b[0m\u001b[0;34m.\u001b[0m\u001b[0m_accessor\u001b[0m\u001b[0;34m\u001b[0m\u001b[0;34m\u001b[0m\u001b[0m\n\u001b[0;32m--> 187\u001b[0;31m         \u001b[0maccessor_obj\u001b[0m \u001b[0;34m=\u001b[0m \u001b[0mself\u001b[0m\u001b[0;34m.\u001b[0m\u001b[0m_accessor\u001b[0m\u001b[0;34m(\u001b[0m\u001b[0mobj\u001b[0m\u001b[0;34m)\u001b[0m\u001b[0;34m\u001b[0m\u001b[0;34m\u001b[0m\u001b[0m\n\u001b[0m\u001b[1;32m    188\u001b[0m         \u001b[0;31m# Replace the property with the accessor object. Inspired by:\u001b[0m\u001b[0;34m\u001b[0m\u001b[0;34m\u001b[0m\u001b[0;34m\u001b[0m\u001b[0m\n\u001b[1;32m    189\u001b[0m         \u001b[0;31m# http://www.pydanny.com/cached-property.html\u001b[0m\u001b[0;34m\u001b[0m\u001b[0;34m\u001b[0m\u001b[0;34m\u001b[0m\u001b[0m\n",
      "\u001b[0;32m~/opt/anaconda3/lib/python3.8/site-packages/pandas/core/indexes/accessors.py\u001b[0m in \u001b[0;36m__new__\u001b[0;34m(cls, data)\u001b[0m\n\u001b[1;32m    336\u001b[0m             \u001b[0;32mreturn\u001b[0m \u001b[0mDatetimeProperties\u001b[0m\u001b[0;34m(\u001b[0m\u001b[0mdata\u001b[0m\u001b[0;34m,\u001b[0m \u001b[0morig\u001b[0m\u001b[0;34m)\u001b[0m\u001b[0;34m\u001b[0m\u001b[0;34m\u001b[0m\u001b[0m\n\u001b[1;32m    337\u001b[0m \u001b[0;34m\u001b[0m\u001b[0m\n\u001b[0;32m--> 338\u001b[0;31m         \u001b[0;32mraise\u001b[0m \u001b[0mAttributeError\u001b[0m\u001b[0;34m(\u001b[0m\u001b[0;34m\"Can only use .dt accessor with datetimelike values\"\u001b[0m\u001b[0;34m)\u001b[0m\u001b[0;34m\u001b[0m\u001b[0;34m\u001b[0m\u001b[0m\n\u001b[0m",
      "\u001b[0;31mAttributeError\u001b[0m: Can only use .dt accessor with datetimelike values"
     ]
    }
   ],
   "source": [
    "data_df['stoptime'].dt.day"
   ]
  },
  {
   "cell_type": "code",
   "execution_count": 158,
   "metadata": {},
   "outputs": [
    {
     "output_type": "execute_result",
     "data": {
      "text/plain": [
       "0         2020-11-01 00:08:48.301\n",
       "1         2020-11-01 00:08:23.317\n",
       "2         2020-11-01 00:33:14.164\n",
       "3         2020-11-01 00:39:57.003\n",
       "4         2020-11-01 00:03:02.898\n",
       "                    ...          \n",
       "1736699   2020-12-01 00:03:01.947\n",
       "1736700   2020-12-01 00:09:02.830\n",
       "1736701   2020-12-01 00:00:41.957\n",
       "1736702   2020-12-01 00:06:09.754\n",
       "1736703   2020-12-01 00:04:49.226\n",
       "Name: stoptime, Length: 1736704, dtype: datetime64[ns]"
      ]
     },
     "metadata": {},
     "execution_count": 158
    }
   ],
   "source": [
    "pd.to_datetime(data_df['stoptime'], format = '%Y-%m-%d %H:%M:%S.%f')"
   ]
  },
  {
   "cell_type": "code",
   "execution_count": 171,
   "metadata": {},
   "outputs": [
    {
     "output_type": "error",
     "ename": "AttributeError",
     "evalue": "Can only use .dt accessor with datetimelike values",
     "traceback": [
      "\u001b[0;31m---------------------------------------------------------------------------\u001b[0m",
      "\u001b[0;31mAttributeError\u001b[0m                            Traceback (most recent call last)",
      "\u001b[0;32m<ipython-input-171-2cc1171ef998>\u001b[0m in \u001b[0;36m<module>\u001b[0;34m\u001b[0m\n\u001b[1;32m      1\u001b[0m \u001b[0;31m# date_df = data_df.loc[datetime.date(year=2020,month=12,day=17)]\u001b[0m\u001b[0;34m\u001b[0m\u001b[0;34m\u001b[0m\u001b[0;34m\u001b[0m\u001b[0m\n\u001b[1;32m      2\u001b[0m \u001b[0;31m# date_df = (data_df['starttime'] >= '2020-12-17')\u001b[0m\u001b[0;34m\u001b[0m\u001b[0;34m\u001b[0m\u001b[0;34m\u001b[0m\u001b[0m\n\u001b[0;32m----> 3\u001b[0;31m \u001b[0mdate_df\u001b[0m \u001b[0;34m=\u001b[0m \u001b[0mdata_df\u001b[0m\u001b[0;34m[\u001b[0m\u001b[0;34m'starttime'\u001b[0m\u001b[0;34m]\u001b[0m\u001b[0;34m.\u001b[0m\u001b[0mdt\u001b[0m\u001b[0;34m.\u001b[0m\u001b[0mdate\u001b[0m\u001b[0;34m.\u001b[0m\u001b[0mastype\u001b[0m\u001b[0;34m(\u001b[0m\u001b[0mstr\u001b[0m\u001b[0;34m)\u001b[0m\u001b[0;34m.\u001b[0m\u001b[0mcontains\u001b[0m\u001b[0;34m(\u001b[0m\u001b[0;34m'2017-03-20'\u001b[0m\u001b[0;34m)\u001b[0m\u001b[0;34m\u001b[0m\u001b[0;34m\u001b[0m\u001b[0m\n\u001b[0m\u001b[1;32m      4\u001b[0m \u001b[0mdate_df\u001b[0m\u001b[0;34m\u001b[0m\u001b[0;34m\u001b[0m\u001b[0m\n",
      "\u001b[0;32m~/opt/anaconda3/lib/python3.8/site-packages/pandas/core/generic.py\u001b[0m in \u001b[0;36m__getattr__\u001b[0;34m(self, name)\u001b[0m\n\u001b[1;32m   5268\u001b[0m             \u001b[0;32mor\u001b[0m \u001b[0mname\u001b[0m \u001b[0;32min\u001b[0m \u001b[0mself\u001b[0m\u001b[0;34m.\u001b[0m\u001b[0m_accessors\u001b[0m\u001b[0;34m\u001b[0m\u001b[0;34m\u001b[0m\u001b[0m\n\u001b[1;32m   5269\u001b[0m         ):\n\u001b[0;32m-> 5270\u001b[0;31m             \u001b[0;32mreturn\u001b[0m \u001b[0mobject\u001b[0m\u001b[0;34m.\u001b[0m\u001b[0m__getattribute__\u001b[0m\u001b[0;34m(\u001b[0m\u001b[0mself\u001b[0m\u001b[0;34m,\u001b[0m \u001b[0mname\u001b[0m\u001b[0;34m)\u001b[0m\u001b[0;34m\u001b[0m\u001b[0;34m\u001b[0m\u001b[0m\n\u001b[0m\u001b[1;32m   5271\u001b[0m         \u001b[0;32melse\u001b[0m\u001b[0;34m:\u001b[0m\u001b[0;34m\u001b[0m\u001b[0;34m\u001b[0m\u001b[0m\n\u001b[1;32m   5272\u001b[0m             \u001b[0;32mif\u001b[0m \u001b[0mself\u001b[0m\u001b[0;34m.\u001b[0m\u001b[0m_info_axis\u001b[0m\u001b[0;34m.\u001b[0m\u001b[0m_can_hold_identifiers_and_holds_name\u001b[0m\u001b[0;34m(\u001b[0m\u001b[0mname\u001b[0m\u001b[0;34m)\u001b[0m\u001b[0;34m:\u001b[0m\u001b[0;34m\u001b[0m\u001b[0;34m\u001b[0m\u001b[0m\n",
      "\u001b[0;32m~/opt/anaconda3/lib/python3.8/site-packages/pandas/core/accessor.py\u001b[0m in \u001b[0;36m__get__\u001b[0;34m(self, obj, cls)\u001b[0m\n\u001b[1;32m    185\u001b[0m             \u001b[0;31m# we're accessing the attribute of the class, i.e., Dataset.geo\u001b[0m\u001b[0;34m\u001b[0m\u001b[0;34m\u001b[0m\u001b[0;34m\u001b[0m\u001b[0m\n\u001b[1;32m    186\u001b[0m             \u001b[0;32mreturn\u001b[0m \u001b[0mself\u001b[0m\u001b[0;34m.\u001b[0m\u001b[0m_accessor\u001b[0m\u001b[0;34m\u001b[0m\u001b[0;34m\u001b[0m\u001b[0m\n\u001b[0;32m--> 187\u001b[0;31m         \u001b[0maccessor_obj\u001b[0m \u001b[0;34m=\u001b[0m \u001b[0mself\u001b[0m\u001b[0;34m.\u001b[0m\u001b[0m_accessor\u001b[0m\u001b[0;34m(\u001b[0m\u001b[0mobj\u001b[0m\u001b[0;34m)\u001b[0m\u001b[0;34m\u001b[0m\u001b[0;34m\u001b[0m\u001b[0m\n\u001b[0m\u001b[1;32m    188\u001b[0m         \u001b[0;31m# Replace the property with the accessor object. Inspired by:\u001b[0m\u001b[0;34m\u001b[0m\u001b[0;34m\u001b[0m\u001b[0;34m\u001b[0m\u001b[0m\n\u001b[1;32m    189\u001b[0m         \u001b[0;31m# http://www.pydanny.com/cached-property.html\u001b[0m\u001b[0;34m\u001b[0m\u001b[0;34m\u001b[0m\u001b[0;34m\u001b[0m\u001b[0m\n",
      "\u001b[0;32m~/opt/anaconda3/lib/python3.8/site-packages/pandas/core/indexes/accessors.py\u001b[0m in \u001b[0;36m__new__\u001b[0;34m(cls, data)\u001b[0m\n\u001b[1;32m    336\u001b[0m             \u001b[0;32mreturn\u001b[0m \u001b[0mDatetimeProperties\u001b[0m\u001b[0;34m(\u001b[0m\u001b[0mdata\u001b[0m\u001b[0;34m,\u001b[0m \u001b[0morig\u001b[0m\u001b[0;34m)\u001b[0m\u001b[0;34m\u001b[0m\u001b[0;34m\u001b[0m\u001b[0m\n\u001b[1;32m    337\u001b[0m \u001b[0;34m\u001b[0m\u001b[0m\n\u001b[0;32m--> 338\u001b[0;31m         \u001b[0;32mraise\u001b[0m \u001b[0mAttributeError\u001b[0m\u001b[0;34m(\u001b[0m\u001b[0;34m\"Can only use .dt accessor with datetimelike values\"\u001b[0m\u001b[0;34m)\u001b[0m\u001b[0;34m\u001b[0m\u001b[0;34m\u001b[0m\u001b[0m\n\u001b[0m",
      "\u001b[0;31mAttributeError\u001b[0m: Can only use .dt accessor with datetimelike values"
     ]
    }
   ],
   "source": [
    "# date_df = data_df.loc[datetime.date(year=2020,month=12,day=17)]\n",
    "# date_df = (data_df['starttime'] >= '2020-12-17')\n",
    "date_df = data_df['starttime'].dt.date.astype(str).contains('2017-03-20')\n",
    "date_df"
   ]
  },
  {
   "cell_type": "code",
   "execution_count": null,
   "metadata": {},
   "outputs": [],
   "source": []
  },
  {
   "cell_type": "code",
   "execution_count": 148,
   "metadata": {},
   "outputs": [
    {
     "output_type": "error",
     "ename": "TypeError",
     "evalue": "'Series' object is not callable",
     "traceback": [
      "\u001b[0;31m---------------------------------------------------------------------------\u001b[0m",
      "\u001b[0;31mTypeError\u001b[0m                                 Traceback (most recent call last)",
      "\u001b[0;32m<ipython-input-148-973ccbd6a79c>\u001b[0m in \u001b[0;36m<module>\u001b[0;34m\u001b[0m\n\u001b[1;32m      1\u001b[0m \u001b[0mnew_df\u001b[0m \u001b[0;34m=\u001b[0m \u001b[0mdata_df\u001b[0m\u001b[0;34m[\u001b[0m\u001b[0;34m'stoptime'\u001b[0m\u001b[0;34m]\u001b[0m\u001b[0;34m.\u001b[0m\u001b[0mstr\u001b[0m\u001b[0;34m.\u001b[0m\u001b[0mcontains\u001b[0m\u001b[0;34m(\u001b[0m\u001b[0;34m'2020-12-17'\u001b[0m\u001b[0;34m)\u001b[0m\u001b[0;34m\u001b[0m\u001b[0;34m\u001b[0m\u001b[0m\n\u001b[0;32m----> 2\u001b[0;31m \u001b[0mnew_df\u001b[0m\u001b[0;34m(\u001b[0m\u001b[0;34m)\u001b[0m\u001b[0;34m\u001b[0m\u001b[0;34m\u001b[0m\u001b[0m\n\u001b[0m",
      "\u001b[0;31mTypeError\u001b[0m: 'Series' object is not callable"
     ]
    }
   ],
   "source": [
    "new_df = data_df['stoptime'].str.contains('2020-12-17')\n",
    "new_df()"
   ]
  },
  {
   "cell_type": "code",
   "execution_count": 190,
   "metadata": {},
   "outputs": [
    {
     "output_type": "execute_result",
     "data": {
      "text/plain": [
       "     end station id               end station name  end station latitude  \\\n",
       "146              72               W 52 St & 11 Ave             40.767272   \n",
       "188              79       Franklin St & W Broadway             40.719116   \n",
       "219              82         St James Pl & Pearl St             40.711174   \n",
       "145              83  Atlantic Ave & Fort Greene Pl             40.683826   \n",
       "169             116                W 17 St & 8 Ave             40.741776   \n",
       "\n",
       "     end station longitude  year  \n",
       "146             -73.993929  2013  \n",
       "188             -74.006667  2013  \n",
       "219             -74.000165  2013  \n",
       "145             -73.976323  2013  \n",
       "169             -74.001497  2013  "
      ],
      "text/html": "<div>\n<style scoped>\n    .dataframe tbody tr th:only-of-type {\n        vertical-align: middle;\n    }\n\n    .dataframe tbody tr th {\n        vertical-align: top;\n    }\n\n    .dataframe thead th {\n        text-align: right;\n    }\n</style>\n<table border=\"1\" class=\"dataframe\">\n  <thead>\n    <tr style=\"text-align: right;\">\n      <th></th>\n      <th>end station id</th>\n      <th>end station name</th>\n      <th>end station latitude</th>\n      <th>end station longitude</th>\n      <th>year</th>\n    </tr>\n  </thead>\n  <tbody>\n    <tr>\n      <th>146</th>\n      <td>72</td>\n      <td>W 52 St &amp; 11 Ave</td>\n      <td>40.767272</td>\n      <td>-73.993929</td>\n      <td>2013</td>\n    </tr>\n    <tr>\n      <th>188</th>\n      <td>79</td>\n      <td>Franklin St &amp; W Broadway</td>\n      <td>40.719116</td>\n      <td>-74.006667</td>\n      <td>2013</td>\n    </tr>\n    <tr>\n      <th>219</th>\n      <td>82</td>\n      <td>St James Pl &amp; Pearl St</td>\n      <td>40.711174</td>\n      <td>-74.000165</td>\n      <td>2013</td>\n    </tr>\n    <tr>\n      <th>145</th>\n      <td>83</td>\n      <td>Atlantic Ave &amp; Fort Greene Pl</td>\n      <td>40.683826</td>\n      <td>-73.976323</td>\n      <td>2013</td>\n    </tr>\n    <tr>\n      <th>169</th>\n      <td>116</td>\n      <td>W 17 St &amp; 8 Ave</td>\n      <td>40.741776</td>\n      <td>-74.001497</td>\n      <td>2013</td>\n    </tr>\n  </tbody>\n</table>\n</div>"
     },
     "metadata": {},
     "execution_count": 190
    }
   ],
   "source": [
    "data13_df = pd.read_csv('Stations/stations_201312.csv')\n",
    "data13_df = data13_df.sort_values('end station id')\n",
    "data13_df.head()"
   ]
  },
  {
   "cell_type": "code",
   "execution_count": 191,
   "metadata": {},
   "outputs": [],
   "source": [
    "data14_df = pd.read_csv('Stations/stations_201412.csv')\n",
    "data15_df = pd.read_csv('Stations/stations_201512.csv')\n",
    "data16_df = pd.read_csv('Stations/stations_201612.csv')\n",
    "data17_df = pd.read_csv('Stations/stations_201712.csv')\n",
    "data18_df = pd.read_csv('Stations/stations_201812.csv')\n",
    "data19_df = pd.read_csv('Stations/stations_201912.csv')\n",
    "data20_df = pd.read_csv('Stations/stations_202012.csv')\n",
    "\n"
   ]
  },
  {
   "cell_type": "code",
   "execution_count": 192,
   "metadata": {},
   "outputs": [],
   "source": [
    "stations_df = pd.merge(data13_df, data14_df, how='outer')\n",
    "stations_df = stations_df.drop_duplicates('end station id', keep='first')\n"
   ]
  },
  {
   "cell_type": "code",
   "execution_count": 193,
   "metadata": {},
   "outputs": [],
   "source": [
    "stations_df = stations_df.sort_values('end station id')\n"
   ]
  },
  {
   "cell_type": "code",
   "execution_count": 194,
   "metadata": {},
   "outputs": [],
   "source": [
    "stations_df = pd.merge(stations_df, data15_df, how='outer')\n",
    "stations_df = stations_df.drop_duplicates('end station id', keep='first')"
   ]
  },
  {
   "cell_type": "code",
   "execution_count": 195,
   "metadata": {},
   "outputs": [],
   "source": [
    "stations_df = stations_df.sort_values('end station id')\n"
   ]
  },
  {
   "cell_type": "code",
   "execution_count": null,
   "metadata": {},
   "outputs": [],
   "source": []
  },
  {
   "cell_type": "code",
   "execution_count": 197,
   "metadata": {},
   "outputs": [],
   "source": [
    "stations_df = pd.merge(stations_df, data16_df, how='outer')\n",
    "stations_df = stations_df.drop_duplicates('end station id', keep='first')\n",
    "stations_df = stations_df.sort_values('end station id')"
   ]
  },
  {
   "cell_type": "code",
   "execution_count": 198,
   "metadata": {},
   "outputs": [],
   "source": [
    "stations_df = pd.merge(stations_df, data17_df, how='outer')\n",
    "stations_df = stations_df.drop_duplicates('end station id', keep='first')\n",
    "stations_df = stations_df.sort_values('end station id')"
   ]
  },
  {
   "cell_type": "code",
   "execution_count": 199,
   "metadata": {},
   "outputs": [],
   "source": [
    "stations_df = pd.merge(stations_df, data18_df, how='outer')\n",
    "stations_df = stations_df.drop_duplicates('end station id', keep='first')\n",
    "stations_df = stations_df.sort_values('end station id')"
   ]
  },
  {
   "cell_type": "code",
   "execution_count": 200,
   "metadata": {},
   "outputs": [],
   "source": [
    "stations_df = pd.merge(stations_df, data19_df, how='outer')\n",
    "stations_df = stations_df.drop_duplicates('end station id', keep='first')\n",
    "stations_df = stations_df.sort_values('end station id')"
   ]
  },
  {
   "cell_type": "code",
   "execution_count": 201,
   "metadata": {},
   "outputs": [],
   "source": [
    "stations_df = pd.merge(stations_df, data20_df, how='outer')\n",
    "stations_df = stations_df.drop_duplicates('end station id', keep='first')\n",
    "stations_df = stations_df.sort_values('end station id')"
   ]
  },
  {
   "cell_type": "code",
   "execution_count": 203,
   "metadata": {},
   "outputs": [],
   "source": [
    "stations_df.to_csv('Stations/stations_2013_2020.csv', index = False)"
   ]
  },
  {
   "cell_type": "code",
   "execution_count": null,
   "metadata": {},
   "outputs": [],
   "source": []
  },
  {
   "cell_type": "code",
   "execution_count": 202,
   "metadata": {},
   "outputs": [
    {
     "output_type": "execute_result",
     "data": {
      "text/plain": [
       "array([2013, 2015, 2014, 2016, 2018, 2017, 2019, 2020])"
      ]
     },
     "metadata": {},
     "execution_count": 202
    }
   ],
   "source": [
    "stations_df['year'].unique()"
   ]
  },
  {
   "cell_type": "code",
   "execution_count": null,
   "metadata": {},
   "outputs": [],
   "source": []
  },
  {
   "cell_type": "code",
   "execution_count": 218,
   "metadata": {},
   "outputs": [],
   "source": [
    "data11_df = pd.read_csv('CityBike/202011-citibike-tripdata.csv')\n",
    "data12_df = pd.read_csv('CityBike/202012-citibike-tripdata.csv')\n"
   ]
  },
  {
   "cell_type": "code",
   "execution_count": null,
   "metadata": {},
   "outputs": [],
   "source": [
    "data11_df['gender'] = data11_df['gender'].astype(str)\n",
    "data11_df['gender'].replace(str(0), 'unknown')\n",
    "data11_df['gender'].replace(str(1), 'male')\n",
    "data11_df['gender'].replace(str(2), 'female')"
   ]
  },
  {
   "cell_type": "code",
   "execution_count": 224,
   "metadata": {},
   "outputs": [],
   "source": [
    "\n",
    "data11_df = data12_df.replace({'gender': 0}, 'unknown')\n",
    "\n"
   ]
  },
  {
   "cell_type": "code",
   "execution_count": 214,
   "metadata": {},
   "outputs": [
    {
     "output_type": "execute_result",
     "data": {
      "text/plain": [
       "   tripduration                 starttime                  stoptime  \\\n",
       "0           521  2020-11-01 00:00:07.0150  2020-11-01 00:08:48.3010   \n",
       "1           492  2020-11-01 00:00:10.8080  2020-11-01 00:08:23.3170   \n",
       "2          1979  2020-11-01 00:00:14.7040  2020-11-01 00:33:14.1640   \n",
       "3          2382  2020-11-01 00:00:14.7070  2020-11-01 00:39:57.0030   \n",
       "4           166  2020-11-01 00:00:15.9690  2020-11-01 00:03:02.8980   \n",
       "\n",
       "   start station id      start station name  start station latitude  \\\n",
       "0              3467  W Broadway & Spring St               40.724947   \n",
       "1              3557           40 Ave & 9 St               40.757420   \n",
       "2              3085    Roebling St & N 4 St               40.714690   \n",
       "3              3783    Cliff St & Fulton St               40.708380   \n",
       "4               422        W 59 St & 10 Ave               40.770513   \n",
       "\n",
       "   start station longitude  end station id          end station name  \\\n",
       "0               -74.001659             350     Clinton St & Grand St   \n",
       "1               -73.945133            3557             40 Ave & 9 St   \n",
       "2               -73.957390            3854  Morgan Ave & Maspeth Ave   \n",
       "3               -74.004950            3167   Amsterdam Ave & W 73 St   \n",
       "4               -73.988038            3175   W 70 St & Amsterdam Ave   \n",
       "\n",
       "   end station latitude  end station longitude  bikeid    usertype  \\\n",
       "0             40.715595             -73.987030   40405  Subscriber   \n",
       "1             40.757420             -73.945133   46504  Subscriber   \n",
       "2             40.716657             -73.936370   37452  Subscriber   \n",
       "3             40.779668             -73.980930   40417  Subscriber   \n",
       "4             40.777480             -73.982886   35776  Subscriber   \n",
       "\n",
       "   birth year gender  \n",
       "0        1989      1  \n",
       "1        1970      2  \n",
       "2        1989      2  \n",
       "3        1981      1  \n",
       "4        1990      1  "
      ],
      "text/html": "<div>\n<style scoped>\n    .dataframe tbody tr th:only-of-type {\n        vertical-align: middle;\n    }\n\n    .dataframe tbody tr th {\n        vertical-align: top;\n    }\n\n    .dataframe thead th {\n        text-align: right;\n    }\n</style>\n<table border=\"1\" class=\"dataframe\">\n  <thead>\n    <tr style=\"text-align: right;\">\n      <th></th>\n      <th>tripduration</th>\n      <th>starttime</th>\n      <th>stoptime</th>\n      <th>start station id</th>\n      <th>start station name</th>\n      <th>start station latitude</th>\n      <th>start station longitude</th>\n      <th>end station id</th>\n      <th>end station name</th>\n      <th>end station latitude</th>\n      <th>end station longitude</th>\n      <th>bikeid</th>\n      <th>usertype</th>\n      <th>birth year</th>\n      <th>gender</th>\n    </tr>\n  </thead>\n  <tbody>\n    <tr>\n      <th>0</th>\n      <td>521</td>\n      <td>2020-11-01 00:00:07.0150</td>\n      <td>2020-11-01 00:08:48.3010</td>\n      <td>3467</td>\n      <td>W Broadway &amp; Spring St</td>\n      <td>40.724947</td>\n      <td>-74.001659</td>\n      <td>350</td>\n      <td>Clinton St &amp; Grand St</td>\n      <td>40.715595</td>\n      <td>-73.987030</td>\n      <td>40405</td>\n      <td>Subscriber</td>\n      <td>1989</td>\n      <td>1</td>\n    </tr>\n    <tr>\n      <th>1</th>\n      <td>492</td>\n      <td>2020-11-01 00:00:10.8080</td>\n      <td>2020-11-01 00:08:23.3170</td>\n      <td>3557</td>\n      <td>40 Ave &amp; 9 St</td>\n      <td>40.757420</td>\n      <td>-73.945133</td>\n      <td>3557</td>\n      <td>40 Ave &amp; 9 St</td>\n      <td>40.757420</td>\n      <td>-73.945133</td>\n      <td>46504</td>\n      <td>Subscriber</td>\n      <td>1970</td>\n      <td>2</td>\n    </tr>\n    <tr>\n      <th>2</th>\n      <td>1979</td>\n      <td>2020-11-01 00:00:14.7040</td>\n      <td>2020-11-01 00:33:14.1640</td>\n      <td>3085</td>\n      <td>Roebling St &amp; N 4 St</td>\n      <td>40.714690</td>\n      <td>-73.957390</td>\n      <td>3854</td>\n      <td>Morgan Ave &amp; Maspeth Ave</td>\n      <td>40.716657</td>\n      <td>-73.936370</td>\n      <td>37452</td>\n      <td>Subscriber</td>\n      <td>1989</td>\n      <td>2</td>\n    </tr>\n    <tr>\n      <th>3</th>\n      <td>2382</td>\n      <td>2020-11-01 00:00:14.7070</td>\n      <td>2020-11-01 00:39:57.0030</td>\n      <td>3783</td>\n      <td>Cliff St &amp; Fulton St</td>\n      <td>40.708380</td>\n      <td>-74.004950</td>\n      <td>3167</td>\n      <td>Amsterdam Ave &amp; W 73 St</td>\n      <td>40.779668</td>\n      <td>-73.980930</td>\n      <td>40417</td>\n      <td>Subscriber</td>\n      <td>1981</td>\n      <td>1</td>\n    </tr>\n    <tr>\n      <th>4</th>\n      <td>166</td>\n      <td>2020-11-01 00:00:15.9690</td>\n      <td>2020-11-01 00:03:02.8980</td>\n      <td>422</td>\n      <td>W 59 St &amp; 10 Ave</td>\n      <td>40.770513</td>\n      <td>-73.988038</td>\n      <td>3175</td>\n      <td>W 70 St &amp; Amsterdam Ave</td>\n      <td>40.777480</td>\n      <td>-73.982886</td>\n      <td>35776</td>\n      <td>Subscriber</td>\n      <td>1990</td>\n      <td>1</td>\n    </tr>\n  </tbody>\n</table>\n</div>"
     },
     "metadata": {},
     "execution_count": 214
    }
   ],
   "source": [
    "data11_df.head()"
   ]
  },
  {
   "cell_type": "code",
   "execution_count": 225,
   "metadata": {},
   "outputs": [],
   "source": [
    "data11_df = data11_df.replace({'gender': 1}, 'male')\n"
   ]
  },
  {
   "cell_type": "code",
   "execution_count": 226,
   "metadata": {},
   "outputs": [],
   "source": [
    "data11_df = data11_df.replace({'gender': 2}, 'female')"
   ]
  },
  {
   "cell_type": "code",
   "execution_count": 227,
   "metadata": {},
   "outputs": [
    {
     "output_type": "execute_result",
     "data": {
      "text/plain": [
       "   tripduration                 starttime                  stoptime  \\\n",
       "0           694  2020-12-01 00:00:03.7770  2020-12-01 00:11:38.3160   \n",
       "1          4131  2020-12-01 00:00:09.1730  2020-12-01 01:09:00.2370   \n",
       "2          1368  2020-12-01 00:00:28.7470  2020-12-01 00:23:16.9980   \n",
       "3          1707  2020-12-01 00:00:34.7680  2020-12-01 00:29:02.6470   \n",
       "4          2182  2020-12-01 00:00:36.4030  2020-12-01 00:36:59.0330   \n",
       "\n",
       "   start station id           start station name  start station latitude  \\\n",
       "0              4065     Wadsworth Ave & W 179 St               40.848467   \n",
       "1              3284           E 88 St & Park Ave               40.781411   \n",
       "2              3443              W 52 St & 6 Ave               40.761330   \n",
       "3                72             W 52 St & 11 Ave               40.767272   \n",
       "4              3165  Central Park West & W 72 St               40.775794   \n",
       "\n",
       "   start station longitude  end station id          end station name  \\\n",
       "0               -73.936064            3959  Edgecombe Ave & W 145 St   \n",
       "1               -73.955959            3147           E 85 St & 3 Ave   \n",
       "2               -73.979820            3563            28 St & 36 Ave   \n",
       "3               -73.993929            3336     E 97 St & Madison Ave   \n",
       "4               -73.976206            3952    E 141 St & Jackson Ave   \n",
       "\n",
       "   end station latitude  end station longitude  bikeid    usertype  \\\n",
       "0             40.823498             -73.943860   49454    Customer   \n",
       "1             40.778012             -73.954071   49524  Subscriber   \n",
       "2             40.757186             -73.932719   34312  Subscriber   \n",
       "3             40.787801             -73.953559   45491  Subscriber   \n",
       "4             40.806896             -73.911837   16558    Customer   \n",
       "\n",
       "   birth year   gender  \n",
       "0        1988   female  \n",
       "1        1988     male  \n",
       "2        1977   female  \n",
       "3        1982  unknown  \n",
       "4        1997     male  "
      ],
      "text/html": "<div>\n<style scoped>\n    .dataframe tbody tr th:only-of-type {\n        vertical-align: middle;\n    }\n\n    .dataframe tbody tr th {\n        vertical-align: top;\n    }\n\n    .dataframe thead th {\n        text-align: right;\n    }\n</style>\n<table border=\"1\" class=\"dataframe\">\n  <thead>\n    <tr style=\"text-align: right;\">\n      <th></th>\n      <th>tripduration</th>\n      <th>starttime</th>\n      <th>stoptime</th>\n      <th>start station id</th>\n      <th>start station name</th>\n      <th>start station latitude</th>\n      <th>start station longitude</th>\n      <th>end station id</th>\n      <th>end station name</th>\n      <th>end station latitude</th>\n      <th>end station longitude</th>\n      <th>bikeid</th>\n      <th>usertype</th>\n      <th>birth year</th>\n      <th>gender</th>\n    </tr>\n  </thead>\n  <tbody>\n    <tr>\n      <th>0</th>\n      <td>694</td>\n      <td>2020-12-01 00:00:03.7770</td>\n      <td>2020-12-01 00:11:38.3160</td>\n      <td>4065</td>\n      <td>Wadsworth Ave &amp; W 179 St</td>\n      <td>40.848467</td>\n      <td>-73.936064</td>\n      <td>3959</td>\n      <td>Edgecombe Ave &amp; W 145 St</td>\n      <td>40.823498</td>\n      <td>-73.943860</td>\n      <td>49454</td>\n      <td>Customer</td>\n      <td>1988</td>\n      <td>female</td>\n    </tr>\n    <tr>\n      <th>1</th>\n      <td>4131</td>\n      <td>2020-12-01 00:00:09.1730</td>\n      <td>2020-12-01 01:09:00.2370</td>\n      <td>3284</td>\n      <td>E 88 St &amp; Park Ave</td>\n      <td>40.781411</td>\n      <td>-73.955959</td>\n      <td>3147</td>\n      <td>E 85 St &amp; 3 Ave</td>\n      <td>40.778012</td>\n      <td>-73.954071</td>\n      <td>49524</td>\n      <td>Subscriber</td>\n      <td>1988</td>\n      <td>male</td>\n    </tr>\n    <tr>\n      <th>2</th>\n      <td>1368</td>\n      <td>2020-12-01 00:00:28.7470</td>\n      <td>2020-12-01 00:23:16.9980</td>\n      <td>3443</td>\n      <td>W 52 St &amp; 6 Ave</td>\n      <td>40.761330</td>\n      <td>-73.979820</td>\n      <td>3563</td>\n      <td>28 St &amp; 36 Ave</td>\n      <td>40.757186</td>\n      <td>-73.932719</td>\n      <td>34312</td>\n      <td>Subscriber</td>\n      <td>1977</td>\n      <td>female</td>\n    </tr>\n    <tr>\n      <th>3</th>\n      <td>1707</td>\n      <td>2020-12-01 00:00:34.7680</td>\n      <td>2020-12-01 00:29:02.6470</td>\n      <td>72</td>\n      <td>W 52 St &amp; 11 Ave</td>\n      <td>40.767272</td>\n      <td>-73.993929</td>\n      <td>3336</td>\n      <td>E 97 St &amp; Madison Ave</td>\n      <td>40.787801</td>\n      <td>-73.953559</td>\n      <td>45491</td>\n      <td>Subscriber</td>\n      <td>1982</td>\n      <td>unknown</td>\n    </tr>\n    <tr>\n      <th>4</th>\n      <td>2182</td>\n      <td>2020-12-01 00:00:36.4030</td>\n      <td>2020-12-01 00:36:59.0330</td>\n      <td>3165</td>\n      <td>Central Park West &amp; W 72 St</td>\n      <td>40.775794</td>\n      <td>-73.976206</td>\n      <td>3952</td>\n      <td>E 141 St &amp; Jackson Ave</td>\n      <td>40.806896</td>\n      <td>-73.911837</td>\n      <td>16558</td>\n      <td>Customer</td>\n      <td>1997</td>\n      <td>male</td>\n    </tr>\n  </tbody>\n</table>\n</div>"
     },
     "metadata": {},
     "execution_count": 227
    }
   ],
   "source": [
    "data11_df.head()"
   ]
  },
  {
   "cell_type": "code",
   "execution_count": 228,
   "metadata": {},
   "outputs": [],
   "source": [
    "data11_df.to_csv('CityBike/202012-citibike-tripdata.csv', index = False)"
   ]
  },
  {
   "cell_type": "code",
   "execution_count": 229,
   "metadata": {},
   "outputs": [
    {
     "output_type": "stream",
     "name": "stdout",
     "text": [
      "<class 'pandas.core.frame.DataFrame'>\nRangeIndex: 1088929 entries, 0 to 1088928\nData columns (total 15 columns):\n #   Column                   Non-Null Count    Dtype  \n---  ------                   --------------    -----  \n 0   tripduration             1088929 non-null  int64  \n 1   starttime                1088929 non-null  object \n 2   stoptime                 1088929 non-null  object \n 3   start station id         1088929 non-null  int64  \n 4   start station name       1088929 non-null  object \n 5   start station latitude   1088929 non-null  float64\n 6   start station longitude  1088929 non-null  float64\n 7   end station id           1088929 non-null  int64  \n 8   end station name         1088929 non-null  object \n 9   end station latitude     1088929 non-null  float64\n 10  end station longitude    1088929 non-null  float64\n 11  bikeid                   1088929 non-null  int64  \n 12  usertype                 1088929 non-null  object \n 13  birth year               1088929 non-null  int64  \n 14  gender                   1088929 non-null  object \ndtypes: float64(4), int64(5), object(6)\nmemory usage: 124.6+ MB\n"
     ]
    }
   ],
   "source": [
    "data11_df.info()"
   ]
  },
  {
   "cell_type": "code",
   "execution_count": 230,
   "metadata": {},
   "outputs": [
    {
     "output_type": "stream",
     "name": "stdout",
     "text": [
      "<class 'pandas.core.frame.DataFrame'>\nRangeIndex: 1088929 entries, 0 to 1088928\nData columns (total 15 columns):\n #   Column                   Non-Null Count    Dtype  \n---  ------                   --------------    -----  \n 0   tripduration             1088929 non-null  int64  \n 1   starttime                1088929 non-null  object \n 2   stoptime                 1088929 non-null  object \n 3   start station id         1088929 non-null  int64  \n 4   start station name       1088929 non-null  object \n 5   start station latitude   1088929 non-null  float64\n 6   start station longitude  1088929 non-null  float64\n 7   end station id           1088929 non-null  int64  \n 8   end station name         1088929 non-null  object \n 9   end station latitude     1088929 non-null  float64\n 10  end station longitude    1088929 non-null  float64\n 11  bikeid                   1088929 non-null  int64  \n 12  usertype                 1088929 non-null  object \n 13  birth year               1088929 non-null  int64  \n 14  gender                   1088929 non-null  object \ndtypes: float64(4), int64(5), object(6)\nmemory usage: 124.6+ MB\n"
     ]
    }
   ],
   "source": [
    "data11_df['gender'] = data11_df['gender'].astype(str)\n",
    "data11_df.info()"
   ]
  },
  {
   "cell_type": "code",
   "execution_count": 231,
   "metadata": {},
   "outputs": [
    {
     "output_type": "execute_result",
     "data": {
      "text/plain": [
       "array([1988, 1977, 1982, 1997, 1969, 1983, 1992, 1999, 1998, 1957, 1971,\n",
       "       1976, 1968, 1995, 1966, 1981, 1979, 1989, 1970, 1996, 1978, 1994,\n",
       "       1984, 1990, 1963, 1960, 2000, 1972, 2001, 1951, 1993, 1980, 1949,\n",
       "       1965, 1991, 2002, 1986, 1974, 1953, 1959, 1987, 1967, 1973, 1961,\n",
       "       1950, 1931, 1975, 1962, 1985, 1958, 1942, 1952, 1955, 1946, 1956,\n",
       "       1948, 1945, 1964, 1954, 1941, 1938, 1943, 1947, 2003, 1944, 1936,\n",
       "       1900, 2004, 1939, 1940, 1912, 1895, 1928, 1934, 1935, 1932, 1888,\n",
       "       1937, 1933, 1930, 1890, 1922, 1918, 1897, 1911, 1899, 1924, 1920,\n",
       "       1921, 1919, 1893, 1885, 1929, 1923, 1896, 1913, 1917, 1891, 1901,\n",
       "       1889, 1915])"
      ]
     },
     "metadata": {},
     "execution_count": 231
    }
   ],
   "source": [
    "data11_df['birth year'].unique()"
   ]
  },
  {
   "cell_type": "code",
   "execution_count": 232,
   "metadata": {},
   "outputs": [
    {
     "output_type": "execute_result",
     "data": {
      "text/plain": [
       "    tripduration                 starttime                  stoptime  \\\n",
       "5            654  2020-12-01 00:00:39.6560  2020-12-01 00:11:34.2950   \n",
       "19           417  2020-12-01 00:02:16.0800  2020-12-01 00:09:13.6320   \n",
       "23           535  2020-12-01 00:02:53.9910  2020-12-01 00:11:49.0250   \n",
       "34           699  2020-12-01 00:04:06.2630  2020-12-01 00:15:45.9490   \n",
       "38           350  2020-12-01 00:04:34.3670  2020-12-01 00:10:24.8360   \n",
       "\n",
       "    start station id             start station name  start station latitude  \\\n",
       "5               3808                 24 St & 41 Ave               40.752474   \n",
       "19              3338                2 Ave & E 99 St               40.786259   \n",
       "23              3501         E 118 St & Madison Ave               40.801487   \n",
       "34              3949           Brook Ave & E 138 St               40.807408   \n",
       "38              3774  Knickerbocker Ave & George St               40.704425   \n",
       "\n",
       "    start station longitude  end station id              end station name  \\\n",
       "5                -73.939991            3619           Newtown Ave & 23 St   \n",
       "19               -73.945526            3671               E 81 St & 2 Ave   \n",
       "23               -73.944251            3323  W 106 St & Central Park West   \n",
       "34               -73.919240            3501        E 118 St & Madison Ave   \n",
       "38               -73.928360            3066     Tompkins Ave & Hopkins St   \n",
       "\n",
       "    end station latitude  end station longitude  bikeid  usertype  birth year  \\\n",
       "5              40.771361             -73.924615   43964  Customer        1969   \n",
       "19             40.774779             -73.954275   48600  Customer        1969   \n",
       "23             40.798186             -73.960591   40260  Customer        1969   \n",
       "34             40.801487             -73.944251   48154  Customer        1969   \n",
       "38             40.699576             -73.947084   47715  Customer        1969   \n",
       "\n",
       "     gender  \n",
       "5   unknown  \n",
       "19  unknown  \n",
       "23  unknown  \n",
       "34  unknown  \n",
       "38  unknown  "
      ],
      "text/html": "<div>\n<style scoped>\n    .dataframe tbody tr th:only-of-type {\n        vertical-align: middle;\n    }\n\n    .dataframe tbody tr th {\n        vertical-align: top;\n    }\n\n    .dataframe thead th {\n        text-align: right;\n    }\n</style>\n<table border=\"1\" class=\"dataframe\">\n  <thead>\n    <tr style=\"text-align: right;\">\n      <th></th>\n      <th>tripduration</th>\n      <th>starttime</th>\n      <th>stoptime</th>\n      <th>start station id</th>\n      <th>start station name</th>\n      <th>start station latitude</th>\n      <th>start station longitude</th>\n      <th>end station id</th>\n      <th>end station name</th>\n      <th>end station latitude</th>\n      <th>end station longitude</th>\n      <th>bikeid</th>\n      <th>usertype</th>\n      <th>birth year</th>\n      <th>gender</th>\n    </tr>\n  </thead>\n  <tbody>\n    <tr>\n      <th>5</th>\n      <td>654</td>\n      <td>2020-12-01 00:00:39.6560</td>\n      <td>2020-12-01 00:11:34.2950</td>\n      <td>3808</td>\n      <td>24 St &amp; 41 Ave</td>\n      <td>40.752474</td>\n      <td>-73.939991</td>\n      <td>3619</td>\n      <td>Newtown Ave &amp; 23 St</td>\n      <td>40.771361</td>\n      <td>-73.924615</td>\n      <td>43964</td>\n      <td>Customer</td>\n      <td>1969</td>\n      <td>unknown</td>\n    </tr>\n    <tr>\n      <th>19</th>\n      <td>417</td>\n      <td>2020-12-01 00:02:16.0800</td>\n      <td>2020-12-01 00:09:13.6320</td>\n      <td>3338</td>\n      <td>2 Ave &amp; E 99 St</td>\n      <td>40.786259</td>\n      <td>-73.945526</td>\n      <td>3671</td>\n      <td>E 81 St &amp; 2 Ave</td>\n      <td>40.774779</td>\n      <td>-73.954275</td>\n      <td>48600</td>\n      <td>Customer</td>\n      <td>1969</td>\n      <td>unknown</td>\n    </tr>\n    <tr>\n      <th>23</th>\n      <td>535</td>\n      <td>2020-12-01 00:02:53.9910</td>\n      <td>2020-12-01 00:11:49.0250</td>\n      <td>3501</td>\n      <td>E 118 St &amp; Madison Ave</td>\n      <td>40.801487</td>\n      <td>-73.944251</td>\n      <td>3323</td>\n      <td>W 106 St &amp; Central Park West</td>\n      <td>40.798186</td>\n      <td>-73.960591</td>\n      <td>40260</td>\n      <td>Customer</td>\n      <td>1969</td>\n      <td>unknown</td>\n    </tr>\n    <tr>\n      <th>34</th>\n      <td>699</td>\n      <td>2020-12-01 00:04:06.2630</td>\n      <td>2020-12-01 00:15:45.9490</td>\n      <td>3949</td>\n      <td>Brook Ave &amp; E 138 St</td>\n      <td>40.807408</td>\n      <td>-73.919240</td>\n      <td>3501</td>\n      <td>E 118 St &amp; Madison Ave</td>\n      <td>40.801487</td>\n      <td>-73.944251</td>\n      <td>48154</td>\n      <td>Customer</td>\n      <td>1969</td>\n      <td>unknown</td>\n    </tr>\n    <tr>\n      <th>38</th>\n      <td>350</td>\n      <td>2020-12-01 00:04:34.3670</td>\n      <td>2020-12-01 00:10:24.8360</td>\n      <td>3774</td>\n      <td>Knickerbocker Ave &amp; George St</td>\n      <td>40.704425</td>\n      <td>-73.928360</td>\n      <td>3066</td>\n      <td>Tompkins Ave &amp; Hopkins St</td>\n      <td>40.699576</td>\n      <td>-73.947084</td>\n      <td>47715</td>\n      <td>Customer</td>\n      <td>1969</td>\n      <td>unknown</td>\n    </tr>\n  </tbody>\n</table>\n</div>"
     },
     "metadata": {},
     "execution_count": 232
    }
   ],
   "source": [
    "data_1969_df = data11_df.loc[data11_df['birth year'] == 1969, :]\n",
    "data_1969_df.head()"
   ]
  },
  {
   "cell_type": "code",
   "execution_count": 238,
   "metadata": {},
   "outputs": [
    {
     "output_type": "execute_result",
     "data": {
      "text/plain": [
       "tripduration               98789\n",
       "starttime                  98789\n",
       "stoptime                   98789\n",
       "start station id           98789\n",
       "start station name         98789\n",
       "start station latitude     98789\n",
       "start station longitude    98789\n",
       "end station id             98789\n",
       "end station name           98789\n",
       "end station latitude       98789\n",
       "end station longitude      98789\n",
       "bikeid                     98789\n",
       "usertype                   98789\n",
       "birth year                 98789\n",
       "gender                     98789\n",
       "dtype: int64"
      ]
     },
     "metadata": {},
     "execution_count": 238
    }
   ],
   "source": [
    "data_1969_df.count()"
   ]
  },
  {
   "cell_type": "code",
   "execution_count": 233,
   "metadata": {},
   "outputs": [],
   "source": [
    "data_1969_df.to_csv('CityBike/202012-1969.csv', index = False)"
   ]
  },
  {
   "cell_type": "code",
   "execution_count": null,
   "metadata": {},
   "outputs": [],
   "source": []
  },
  {
   "cell_type": "code",
   "execution_count": null,
   "metadata": {},
   "outputs": [],
   "source": []
  },
  {
   "cell_type": "code",
   "execution_count": 264,
   "metadata": {},
   "outputs": [
    {
     "output_type": "execute_result",
     "data": {
      "text/plain": [
       "   tripduration                 starttime                  stoptime  \\\n",
       "0           694  2020-12-01 00:00:03.7770  2020-12-01 00:11:38.3160   \n",
       "1          4131  2020-12-01 00:00:09.1730  2020-12-01 01:09:00.2370   \n",
       "2          1368  2020-12-01 00:00:28.7470  2020-12-01 00:23:16.9980   \n",
       "3          1707  2020-12-01 00:00:34.7680  2020-12-01 00:29:02.6470   \n",
       "4          2182  2020-12-01 00:00:36.4030  2020-12-01 00:36:59.0330   \n",
       "\n",
       "   start station id           start station name  start station latitude  \\\n",
       "0              4065     Wadsworth Ave & W 179 St               40.848467   \n",
       "1              3284           E 88 St & Park Ave               40.781411   \n",
       "2              3443              W 52 St & 6 Ave               40.761330   \n",
       "3                72             W 52 St & 11 Ave               40.767272   \n",
       "4              3165  Central Park West & W 72 St               40.775794   \n",
       "\n",
       "   start station longitude  end station id          end station name  \\\n",
       "0               -73.936064            3959  Edgecombe Ave & W 145 St   \n",
       "1               -73.955959            3147           E 85 St & 3 Ave   \n",
       "2               -73.979820            3563            28 St & 36 Ave   \n",
       "3               -73.993929            3336     E 97 St & Madison Ave   \n",
       "4               -73.976206            3952    E 141 St & Jackson Ave   \n",
       "\n",
       "   end station latitude  end station longitude  bikeid    usertype  \\\n",
       "0             40.823498             -73.943860   49454    Customer   \n",
       "1             40.778012             -73.954071   49524  Subscriber   \n",
       "2             40.757186             -73.932719   34312  Subscriber   \n",
       "3             40.787801             -73.953559   45491  Subscriber   \n",
       "4             40.806896             -73.911837   16558    Customer   \n",
       "\n",
       "   birth year   gender  \n",
       "0        1988   female  \n",
       "1        1988     male  \n",
       "2        1977   female  \n",
       "3        1982  unknown  \n",
       "4        1997     male  "
      ],
      "text/html": "<div>\n<style scoped>\n    .dataframe tbody tr th:only-of-type {\n        vertical-align: middle;\n    }\n\n    .dataframe tbody tr th {\n        vertical-align: top;\n    }\n\n    .dataframe thead th {\n        text-align: right;\n    }\n</style>\n<table border=\"1\" class=\"dataframe\">\n  <thead>\n    <tr style=\"text-align: right;\">\n      <th></th>\n      <th>tripduration</th>\n      <th>starttime</th>\n      <th>stoptime</th>\n      <th>start station id</th>\n      <th>start station name</th>\n      <th>start station latitude</th>\n      <th>start station longitude</th>\n      <th>end station id</th>\n      <th>end station name</th>\n      <th>end station latitude</th>\n      <th>end station longitude</th>\n      <th>bikeid</th>\n      <th>usertype</th>\n      <th>birth year</th>\n      <th>gender</th>\n    </tr>\n  </thead>\n  <tbody>\n    <tr>\n      <th>0</th>\n      <td>694</td>\n      <td>2020-12-01 00:00:03.7770</td>\n      <td>2020-12-01 00:11:38.3160</td>\n      <td>4065</td>\n      <td>Wadsworth Ave &amp; W 179 St</td>\n      <td>40.848467</td>\n      <td>-73.936064</td>\n      <td>3959</td>\n      <td>Edgecombe Ave &amp; W 145 St</td>\n      <td>40.823498</td>\n      <td>-73.943860</td>\n      <td>49454</td>\n      <td>Customer</td>\n      <td>1988</td>\n      <td>female</td>\n    </tr>\n    <tr>\n      <th>1</th>\n      <td>4131</td>\n      <td>2020-12-01 00:00:09.1730</td>\n      <td>2020-12-01 01:09:00.2370</td>\n      <td>3284</td>\n      <td>E 88 St &amp; Park Ave</td>\n      <td>40.781411</td>\n      <td>-73.955959</td>\n      <td>3147</td>\n      <td>E 85 St &amp; 3 Ave</td>\n      <td>40.778012</td>\n      <td>-73.954071</td>\n      <td>49524</td>\n      <td>Subscriber</td>\n      <td>1988</td>\n      <td>male</td>\n    </tr>\n    <tr>\n      <th>2</th>\n      <td>1368</td>\n      <td>2020-12-01 00:00:28.7470</td>\n      <td>2020-12-01 00:23:16.9980</td>\n      <td>3443</td>\n      <td>W 52 St &amp; 6 Ave</td>\n      <td>40.761330</td>\n      <td>-73.979820</td>\n      <td>3563</td>\n      <td>28 St &amp; 36 Ave</td>\n      <td>40.757186</td>\n      <td>-73.932719</td>\n      <td>34312</td>\n      <td>Subscriber</td>\n      <td>1977</td>\n      <td>female</td>\n    </tr>\n    <tr>\n      <th>3</th>\n      <td>1707</td>\n      <td>2020-12-01 00:00:34.7680</td>\n      <td>2020-12-01 00:29:02.6470</td>\n      <td>72</td>\n      <td>W 52 St &amp; 11 Ave</td>\n      <td>40.767272</td>\n      <td>-73.993929</td>\n      <td>3336</td>\n      <td>E 97 St &amp; Madison Ave</td>\n      <td>40.787801</td>\n      <td>-73.953559</td>\n      <td>45491</td>\n      <td>Subscriber</td>\n      <td>1982</td>\n      <td>unknown</td>\n    </tr>\n    <tr>\n      <th>4</th>\n      <td>2182</td>\n      <td>2020-12-01 00:00:36.4030</td>\n      <td>2020-12-01 00:36:59.0330</td>\n      <td>3165</td>\n      <td>Central Park West &amp; W 72 St</td>\n      <td>40.775794</td>\n      <td>-73.976206</td>\n      <td>3952</td>\n      <td>E 141 St &amp; Jackson Ave</td>\n      <td>40.806896</td>\n      <td>-73.911837</td>\n      <td>16558</td>\n      <td>Customer</td>\n      <td>1997</td>\n      <td>male</td>\n    </tr>\n  </tbody>\n</table>\n</div>"
     },
     "metadata": {},
     "execution_count": 264
    }
   ],
   "source": [
    "data_df = pd.read_csv('CityBike/202012-citibike-tripdata.csv')\n",
    "data_df.head()"
   ]
  },
  {
   "cell_type": "code",
   "execution_count": 265,
   "metadata": {},
   "outputs": [
    {
     "output_type": "execute_result",
     "data": {
      "text/plain": [
       "tripduration               1088929\n",
       "starttime                  1088929\n",
       "stoptime                   1088929\n",
       "start station id           1088929\n",
       "start station name         1088929\n",
       "start station latitude     1088929\n",
       "start station longitude    1088929\n",
       "end station id             1088929\n",
       "end station name           1088929\n",
       "end station latitude       1088929\n",
       "end station longitude      1088929\n",
       "bikeid                     1088929\n",
       "usertype                   1088929\n",
       "birth year                 1088929\n",
       "gender                     1088929\n",
       "dtype: int64"
      ]
     },
     "metadata": {},
     "execution_count": 265
    }
   ],
   "source": [
    "data_df.count()"
   ]
  },
  {
   "cell_type": "code",
   "execution_count": 266,
   "metadata": {},
   "outputs": [
    {
     "output_type": "execute_result",
     "data": {
      "text/plain": [
       "   tripduration                 starttime                  stoptime  \\\n",
       "0           694  2020-12-01 00:00:03.7770  2020-12-01 00:11:38.3160   \n",
       "1          4131  2020-12-01 00:00:09.1730  2020-12-01 01:09:00.2370   \n",
       "2          1368  2020-12-01 00:00:28.7470  2020-12-01 00:23:16.9980   \n",
       "3          1707  2020-12-01 00:00:34.7680  2020-12-01 00:29:02.6470   \n",
       "4          2182  2020-12-01 00:00:36.4030  2020-12-01 00:36:59.0330   \n",
       "\n",
       "   start station id           start station name  start station latitude  \\\n",
       "0              4065     Wadsworth Ave & W 179 St               40.848467   \n",
       "1              3284           E 88 St & Park Ave               40.781411   \n",
       "2              3443              W 52 St & 6 Ave               40.761330   \n",
       "3                72             W 52 St & 11 Ave               40.767272   \n",
       "4              3165  Central Park West & W 72 St               40.775794   \n",
       "\n",
       "   start station longitude  end station id          end station name  \\\n",
       "0               -73.936064            3959  Edgecombe Ave & W 145 St   \n",
       "1               -73.955959            3147           E 85 St & 3 Ave   \n",
       "2               -73.979820            3563            28 St & 36 Ave   \n",
       "3               -73.993929            3336     E 97 St & Madison Ave   \n",
       "4               -73.976206            3952    E 141 St & Jackson Ave   \n",
       "\n",
       "   end station latitude  end station longitude  bikeid    usertype  \\\n",
       "0             40.823498             -73.943860   49454    Customer   \n",
       "1             40.778012             -73.954071   49524  Subscriber   \n",
       "2             40.757186             -73.932719   34312  Subscriber   \n",
       "3             40.787801             -73.953559   45491  Subscriber   \n",
       "4             40.806896             -73.911837   16558    Customer   \n",
       "\n",
       "   birth year   gender   trip_min  \n",
       "0        1988   female  11.566667  \n",
       "1        1988     male  68.850000  \n",
       "2        1977   female  22.800000  \n",
       "3        1982  unknown  28.450000  \n",
       "4        1997     male  36.366667  "
      ],
      "text/html": "<div>\n<style scoped>\n    .dataframe tbody tr th:only-of-type {\n        vertical-align: middle;\n    }\n\n    .dataframe tbody tr th {\n        vertical-align: top;\n    }\n\n    .dataframe thead th {\n        text-align: right;\n    }\n</style>\n<table border=\"1\" class=\"dataframe\">\n  <thead>\n    <tr style=\"text-align: right;\">\n      <th></th>\n      <th>tripduration</th>\n      <th>starttime</th>\n      <th>stoptime</th>\n      <th>start station id</th>\n      <th>start station name</th>\n      <th>start station latitude</th>\n      <th>start station longitude</th>\n      <th>end station id</th>\n      <th>end station name</th>\n      <th>end station latitude</th>\n      <th>end station longitude</th>\n      <th>bikeid</th>\n      <th>usertype</th>\n      <th>birth year</th>\n      <th>gender</th>\n      <th>trip_min</th>\n    </tr>\n  </thead>\n  <tbody>\n    <tr>\n      <th>0</th>\n      <td>694</td>\n      <td>2020-12-01 00:00:03.7770</td>\n      <td>2020-12-01 00:11:38.3160</td>\n      <td>4065</td>\n      <td>Wadsworth Ave &amp; W 179 St</td>\n      <td>40.848467</td>\n      <td>-73.936064</td>\n      <td>3959</td>\n      <td>Edgecombe Ave &amp; W 145 St</td>\n      <td>40.823498</td>\n      <td>-73.943860</td>\n      <td>49454</td>\n      <td>Customer</td>\n      <td>1988</td>\n      <td>female</td>\n      <td>11.566667</td>\n    </tr>\n    <tr>\n      <th>1</th>\n      <td>4131</td>\n      <td>2020-12-01 00:00:09.1730</td>\n      <td>2020-12-01 01:09:00.2370</td>\n      <td>3284</td>\n      <td>E 88 St &amp; Park Ave</td>\n      <td>40.781411</td>\n      <td>-73.955959</td>\n      <td>3147</td>\n      <td>E 85 St &amp; 3 Ave</td>\n      <td>40.778012</td>\n      <td>-73.954071</td>\n      <td>49524</td>\n      <td>Subscriber</td>\n      <td>1988</td>\n      <td>male</td>\n      <td>68.850000</td>\n    </tr>\n    <tr>\n      <th>2</th>\n      <td>1368</td>\n      <td>2020-12-01 00:00:28.7470</td>\n      <td>2020-12-01 00:23:16.9980</td>\n      <td>3443</td>\n      <td>W 52 St &amp; 6 Ave</td>\n      <td>40.761330</td>\n      <td>-73.979820</td>\n      <td>3563</td>\n      <td>28 St &amp; 36 Ave</td>\n      <td>40.757186</td>\n      <td>-73.932719</td>\n      <td>34312</td>\n      <td>Subscriber</td>\n      <td>1977</td>\n      <td>female</td>\n      <td>22.800000</td>\n    </tr>\n    <tr>\n      <th>3</th>\n      <td>1707</td>\n      <td>2020-12-01 00:00:34.7680</td>\n      <td>2020-12-01 00:29:02.6470</td>\n      <td>72</td>\n      <td>W 52 St &amp; 11 Ave</td>\n      <td>40.767272</td>\n      <td>-73.993929</td>\n      <td>3336</td>\n      <td>E 97 St &amp; Madison Ave</td>\n      <td>40.787801</td>\n      <td>-73.953559</td>\n      <td>45491</td>\n      <td>Subscriber</td>\n      <td>1982</td>\n      <td>unknown</td>\n      <td>28.450000</td>\n    </tr>\n    <tr>\n      <th>4</th>\n      <td>2182</td>\n      <td>2020-12-01 00:00:36.4030</td>\n      <td>2020-12-01 00:36:59.0330</td>\n      <td>3165</td>\n      <td>Central Park West &amp; W 72 St</td>\n      <td>40.775794</td>\n      <td>-73.976206</td>\n      <td>3952</td>\n      <td>E 141 St &amp; Jackson Ave</td>\n      <td>40.806896</td>\n      <td>-73.911837</td>\n      <td>16558</td>\n      <td>Customer</td>\n      <td>1997</td>\n      <td>male</td>\n      <td>36.366667</td>\n    </tr>\n  </tbody>\n</table>\n</div>"
     },
     "metadata": {},
     "execution_count": 266
    }
   ],
   "source": [
    "data_df['trip_min'] = data_df['tripduration'] / 60\n",
    "data_df.head()"
   ]
  },
  {
   "cell_type": "code",
   "execution_count": 267,
   "metadata": {},
   "outputs": [
    {
     "output_type": "execute_result",
     "data": {
      "text/plain": [
       "44793.21666666667"
      ]
     },
     "metadata": {},
     "execution_count": 267
    }
   ],
   "source": [
    "data_df['trip_min'].max()"
   ]
  },
  {
   "cell_type": "code",
   "execution_count": 268,
   "metadata": {},
   "outputs": [
    {
     "output_type": "execute_result",
     "data": {
      "text/plain": [
       "tripduration               1077568\n",
       "starttime                  1077568\n",
       "stoptime                   1077568\n",
       "start station id           1077568\n",
       "start station name         1077568\n",
       "start station latitude     1077568\n",
       "start station longitude    1077568\n",
       "end station id             1077568\n",
       "end station name           1077568\n",
       "end station latitude       1077568\n",
       "end station longitude      1077568\n",
       "bikeid                     1077568\n",
       "usertype                   1077568\n",
       "birth year                 1077568\n",
       "gender                     1077568\n",
       "trip_min                   1077568\n",
       "dtype: int64"
      ]
     },
     "metadata": {},
     "execution_count": 268
    }
   ],
   "source": [
    "data_11_hour_df = data_df.loc[data_df['trip_min'] <= 60]\n",
    "data_11_hour_df.count()"
   ]
  },
  {
   "cell_type": "code",
   "execution_count": 269,
   "metadata": {},
   "outputs": [
    {
     "output_type": "execute_result",
     "data": {
      "text/plain": [
       "tripduration               1076814\n",
       "starttime                  1076814\n",
       "stoptime                   1076814\n",
       "start station id           1076814\n",
       "start station name         1076814\n",
       "start station latitude     1076814\n",
       "start station longitude    1076814\n",
       "end station id             1076814\n",
       "end station name           1076814\n",
       "end station latitude       1076814\n",
       "end station longitude      1076814\n",
       "bikeid                     1076814\n",
       "usertype                   1076814\n",
       "birth year                 1076814\n",
       "gender                     1076814\n",
       "trip_min                   1076814\n",
       "dtype: int64"
      ]
     },
     "metadata": {},
     "execution_count": 269
    }
   ],
   "source": [
    "data_11_hour_df = data_11_hour_df.loc[data_11_hour_df['birth year'] >= 1930]\n",
    "data_11_hour_df.count()"
   ]
  },
  {
   "cell_type": "code",
   "execution_count": 270,
   "metadata": {},
   "outputs": [],
   "source": [
    "data_11_hour_df.to_csv('CityBike/202012-citibike-tripdata.csv', index = False)"
   ]
  }
 ]
}